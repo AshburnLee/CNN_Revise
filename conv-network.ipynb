{
 "cells": [
  {
   "cell_type": "code",
   "execution_count": null,
   "metadata": {
    "collapsed": true
   },
   "outputs": [],
   "source": [
    "import tensorflow as tf\n",
    "import os\n",
    "import pickle\n",
    "import numpy as np\n",
    "import CifarData\n",
    "\n",
    "CIFAR_DIR = \"./../cifar-10-batches-py\"\n",
    "print(os.listdir(CIFAR_DIR))"
   ]
  },
  {
   "cell_type": "code",
   "execution_count": null,
   "metadata": {
    "collapsed": true
   },
   "outputs": [],
   "source": [
    "train_filenames = [os.path.join(CIFAR_DIR, 'data_batch_%d' % i) for i in range(1, 6)]\n",
    "test_filenames = [os.path.join(CIFAR_DIR, 'test_batch')]\n",
    "\n",
    "train_data = CifarData.CifarData(train_filenames, True)\n",
    "test_data = CifarData.CifarData(test_filenames, False)\n"
   ]
  },
  {
   "cell_type": "code",
   "execution_count": null,
   "metadata": {
    "collapsed": true
   },
   "outputs": [],
   "source": [
    "\"\"\"\n",
    "Construct the graph\n",
    "\"\"\"\n",
    "x = tf.placeholder(tf.float32, [None, 3072])\n",
    "y = tf.placeholder(tf.int64, [None])\n",
    "# [None], eg: [0,5,6,3]\n",
    "# turn the 1D array to a image [3,32,32]\n",
    "x_image = tf.reshape(x, [-1, 3, 32, 32])\n",
    "# 32*32\n",
    "# exchange channels\n",
    "x_image = tf.transpose(x_image, perm=[0, 2, 3, 1])\n",
    "\n",
    "# conv1: 神经元图， feature_map, 输出图像\n",
    "conv1 = tf.layers.conv2d(x_image,\n",
    "                         32,     # output channel number\n",
    "                         (3,3), # kernel size\n",
    "                         padding = 'same',\n",
    "                         activation = tf.nn.relu,\n",
    "                         name = 'conv1')\n",
    "\n",
    "# 16 * 16\n",
    "pooling1 = tf.layers.max_pooling2d(conv1,\n",
    "                                   (2, 2), # kernel size\n",
    "                                   (2, 2), # stride\n",
    "                                   name = 'pool1')\n",
    "\n",
    "\n",
    "conv2 = tf.layers.conv2d(pooling1,\n",
    "                         32, # output channel number\n",
    "                         (3,3), # kernel size\n",
    "                         padding = 'same',\n",
    "                         activation = tf.nn.relu,\n",
    "                         name = 'conv2')\n",
    "\n",
    "# 8 * 8\n",
    "pooling2 = tf.layers.max_pooling2d(conv2,\n",
    "                                   (2, 2), # kernel size\n",
    "                                   (2, 2), # stride\n",
    "                                   name = 'pool2')\n",
    "\n",
    "conv3 = tf.layers.conv2d(pooling2,\n",
    "                         32, # output channel number\n",
    "                         (3,3), # kernel size\n",
    "                         padding = 'same',\n",
    "                         activation = tf.nn.relu,\n",
    "                         name = 'conv3')\n",
    "\n",
    "# 4 * 4 * 32\n",
    "pooling3 = tf.layers.max_pooling2d(conv3,\n",
    "                                   (2, 2), # kernel size\n",
    "                                   (2, 2), # stride\n",
    "                                   name = 'pool3')\n",
    "# make the reault 1D:\n",
    "# [None, 4 * 4 * 32]\n",
    "flatten = tf.layers.flatten(pooling3)\n",
    "y_ = tf.layers.dense(flatten, 10)\n",
    "\n",
    "\n",
    "\n",
    "\n",
    "loss = tf.losses.sparse_softmax_cross_entropy(labels=y, logits=y_)\n",
    "# y_ -> sofmax\n",
    "# y -> one_hot\n",
    "# loss = ylogy_\n",
    "\n",
    "# indices\n",
    "predict = tf.argmax(y_, 1)\n",
    "# [1,0,1,1,1,0,0,0]\n",
    "correct_prediction = tf.equal(predict, y)\n",
    "accuracy = tf.reduce_mean(tf.cast(correct_prediction, tf.float64))\n",
    "\n",
    "with tf.name_scope('train_op'):\n",
    "    train_op = tf.train.AdamOptimizer(1e-3).minimize(loss)"
   ]
  },
  {
   "cell_type": "code",
   "execution_count": null,
   "metadata": {
    "collapsed": true
   },
   "outputs": [],
   "source": [
    "\"\"\"\n",
    "run the graph\n",
    "\"\"\"\n",
    "init = tf.global_variables_initializer()\n",
    "batch_size = 20\n",
    "train_steps = 100000\n",
    "test_steps = 100\n",
    "\n",
    "# train 10k: 71.35%\n",
    "with tf.Session() as sess:\n",
    "    sess.run(init)\n",
    "    for i in range(train_steps):\n",
    "        batch_data, batch_labels = train_data.next_batch(batch_size)\n",
    "        loss_val, acc_val, _ = sess.run(\n",
    "                                        [loss, accuracy, train_op],\n",
    "                                        feed_dict={\n",
    "                                            x: batch_data,\n",
    "                                            y: batch_labels}\n",
    "                                        )\n",
    "        if (i+1) % 100 == 0:\n",
    "            print('[Train] Step: %d, loss: %4.5f, acc: %4.5f' \n",
    "                  % (i+1, loss_val, acc_val))\n",
    "        if (i+1) % 1000 == 0:\n",
    "            test_data = CifarData.CifarData(test_filenames, False)\n",
    "            all_test_acc_val = []\n",
    "            for j in range(test_steps):\n",
    "                test_batch_data, test_batch_labels = test_data.next_batch(batch_size)\n",
    "                test_acc_val = sess.run(\n",
    "                                        [accuracy],\n",
    "                                        feed_dict = {\n",
    "                                            x: test_batch_data, \n",
    "                                            y: test_batch_labels\n",
    "                                        })\n",
    "                all_test_acc_val.append(test_acc_val)\n",
    "                \n",
    "            test_acc = np.mean(all_test_acc_val)\n",
    "            print('[Test ] Step: %d, acc: %4.5f'\n",
    "                  % (i+1, test_acc))"
   ]
  },
  {
   "cell_type": "code",
   "execution_count": null,
   "metadata": {
    "collapsed": true
   },
   "outputs": [],
   "source": []
  }
 ],
 "metadata": {
  "kernelspec": {
   "display_name": "Python 3",
   "language": "python",
   "name": "python3"
  },
  "language_info": {
   "codemirror_mode": {
    "name": "ipython",
    "version": 3
   },
   "file_extension": ".py",
   "mimetype": "text/x-python",
   "name": "python",
   "nbconvert_exporter": "python",
   "pygments_lexer": "ipython3",
   "version": "3.6.3"
  }
 },
 "nbformat": 4,
 "nbformat_minor": 2
}

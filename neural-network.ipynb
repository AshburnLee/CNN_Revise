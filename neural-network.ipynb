{
 "cells": [
  {
   "cell_type": "code",
   "execution_count": 1,
   "metadata": {},
   "outputs": [
    {
     "name": "stdout",
     "output_type": "stream",
     "text": [
      "['batches.meta', 'data_batch_1', 'data_batch_2', 'data_batch_3', 'data_batch_4', 'data_batch_5', 'readme.html', 'test_batch']\n"
     ]
    }
   ],
   "source": [
    "import tensorflow as tf\n",
    "import os\n",
    "import pickle\n",
    "import numpy as np\n",
    "import CifarData\n",
    "\n",
    "CIFAR_DIR = \"./../cifar-10-batches-py\"\n",
    "print(os.listdir(CIFAR_DIR))"
   ]
  },
  {
   "cell_type": "code",
   "execution_count": 2,
   "metadata": {},
   "outputs": [
    {
     "data": {
      "text/plain": [
       "'\\n#The CIFAR-10 dataset consists of 60000 32x32 colour images in 10 classes, \\nwith 6000 images per class. There are 50000 training images and 10000 test images. \\n\\n## data -- a 10000x3072(32*32*3) numpy array of uint8s. \\nEach row of the array stores a 32x32 colour image. \\nThe first 1024 entries contain the red channel values, \\nthe next 1024 the green, and the final 1024 the blue. \\nThe image is stored in row-major order, so that the first 32 entries of the array \\nare the red channel values of the first row of the image.\\n\\n## labels -- a list of 10000 numbers in the range 0-9. \\nThe number at index i indicates the label of the ith image in the array data.\\n'"
      ]
     },
     "execution_count": 2,
     "metadata": {},
     "output_type": "execute_result"
    }
   ],
   "source": [
    "\"\"\"\n",
    "#The CIFAR-10 dataset consists of 60000 32x32 colour images in 10 classes, \n",
    "with 6000 images per class. There are 50000 training images and 10000 test images. \n",
    "\n",
    "## data -- a 10000x3072(32*32*3) numpy array of uint8s. \n",
    "Each row of the array stores a 32x32 colour image. \n",
    "The first 1024 entries contain the red channel values, \n",
    "the next 1024 the green, and the final 1024 the blue. \n",
    "The image is stored in row-major order, so that the first 32 entries of the array \n",
    "are the red channel values of the first row of the image.\n",
    "\n",
    "## labels -- a list of 10000 numbers in the range 0-9. \n",
    "The number at index i indicates the label of the ith image in the array data.\n",
    "\"\"\""
   ]
  },
  {
   "cell_type": "code",
   "execution_count": 3,
   "metadata": {},
   "outputs": [
    {
     "name": "stdout",
     "output_type": "stream",
     "text": [
      "(50000, 3072)\n",
      "(50000,)\n",
      "(10000, 3072)\n",
      "(10000,)\n"
     ]
    }
   ],
   "source": [
    "\"\"\"\n",
    "testing \n",
    "\"\"\"\n",
    "train_filenames = [os.path.join(CIFAR_DIR, 'data_batch_%d' % i) for i in range(1, 6)]\n",
    "test_filenames = [os.path.join(CIFAR_DIR, 'test_batch')]\n",
    "\n",
    "train_data = CifarData.CifarData(train_filenames, True)\n",
    "test_data = CifarData.CifarData(test_filenames, False)"
   ]
  },
  {
   "cell_type": "code",
   "execution_count": 4,
   "metadata": {
    "collapsed": true
   },
   "outputs": [],
   "source": [
    "\"\"\"\n",
    "construct the graph\n",
    "\"\"\"\n",
    "x = tf.placeholder(tf.float32, [None, 3072])\n",
    "# [None], eg: [0,5,6,3]\n",
    "y = tf.placeholder(tf.int64, [None])\n",
    "\n",
    "# three hidden layers, fully connected\n",
    "\n",
    "hidden1 = tf.layers.dense(x, 100, activation=tf.nn.relu)\n",
    "hidden2 = tf.layers.dense(hidden1, 100, activation=tf.nn.relu)\n",
    "hidden3 = tf.layers.dense(hidden2, 50, activation=tf.nn.relu)\n",
    "y_ = tf.layers.dense(hidden3, 10)\n",
    "\n",
    "loss = tf.losses.sparse_softmax_cross_entropy(labels=y, logits=y_)\n",
    "# y_ -> sofmax\n",
    "# y -> one_hot\n",
    "# loss = ylogy_\n",
    "\n",
    "# indices\n",
    "predict = tf.argmax(y_, 1)\n",
    "# [1,0,1,1,1,0,0,0]\n",
    "correct_prediction = tf.equal(predict, y)\n",
    "accuracy = tf.reduce_mean(tf.cast(correct_prediction, tf.float64))\n",
    "\n",
    "with tf.name_scope('train_op'):\n",
    "    train_op = tf.train.AdamOptimizer(1e-3).minimize(loss)"
   ]
  },
  {
   "cell_type": "code",
   "execution_count": 5,
   "metadata": {},
   "outputs": [
    {
     "name": "stdout",
     "output_type": "stream",
     "text": [
      "[Train] Step: 500, loss: 1.72040, acc: 0.25000\n",
      "[Train] Step: 1000, loss: 1.60773, acc: 0.35000\n",
      "[Train] Step: 1500, loss: 1.78879, acc: 0.40000\n",
      "[Train] Step: 2000, loss: 1.50166, acc: 0.50000\n",
      "[Train] Step: 2500, loss: 1.97384, acc: 0.35000\n",
      "[Train] Step: 3000, loss: 1.64070, acc: 0.35000\n",
      "[Train] Step: 3500, loss: 1.55406, acc: 0.30000\n",
      "[Train] Step: 4000, loss: 1.14214, acc: 0.75000\n",
      "[Train] Step: 4500, loss: 1.20850, acc: 0.60000\n",
      "[Train] Step: 5000, loss: 1.61235, acc: 0.50000\n",
      "(10000, 3072)\n",
      "(10000,)\n",
      "[Test ] Step: 5000, acc: 0.46100\n",
      "[Train] Step: 5500, loss: 1.42832, acc: 0.40000\n",
      "[Train] Step: 6000, loss: 1.41347, acc: 0.50000\n",
      "[Train] Step: 6500, loss: 1.47176, acc: 0.50000\n",
      "[Train] Step: 7000, loss: 1.46576, acc: 0.55000\n",
      "[Train] Step: 7500, loss: 1.26129, acc: 0.50000\n",
      "[Train] Step: 8000, loss: 1.20261, acc: 0.50000\n",
      "[Train] Step: 8500, loss: 1.45637, acc: 0.50000\n",
      "[Train] Step: 9000, loss: 1.57878, acc: 0.45000\n",
      "[Train] Step: 9500, loss: 1.88338, acc: 0.55000\n",
      "[Train] Step: 10000, loss: 1.40153, acc: 0.40000\n",
      "(10000, 3072)\n",
      "(10000,)\n",
      "[Test ] Step: 10000, acc: 0.48650\n"
     ]
    }
   ],
   "source": [
    "\"\"\"\n",
    "run the graph\n",
    "\"\"\"\n",
    "init = tf.global_variables_initializer()\n",
    "batch_size = 20\n",
    "train_steps = 10000\n",
    "test_steps = 100\n",
    "\n",
    "# train: 100k: 51.%\n",
    "with tf.Session() as sess:\n",
    "    sess.run(init)\n",
    "    for i in range(train_steps):\n",
    "        batch_data, batch_labels = train_data.next_batch(batch_size)\n",
    "        loss_val, acc_val, _ = sess.run(\n",
    "                                        [loss, accuracy, train_op],\n",
    "                                        feed_dict={\n",
    "                                            x: batch_data,\n",
    "                                            y: batch_labels}\n",
    "                                        )\n",
    "        if (i+1) % 500 == 0:\n",
    "            print('[Train] Step: %d, loss: %4.5f, acc: %4.5f' \n",
    "                  % (i+1, loss_val, acc_val))\n",
    "        if (i+1) % 5000 == 0:\n",
    "            test_data = CifarData.CifarData(test_filenames, False)\n",
    "            all_test_acc_val = []\n",
    "            for j in range(test_steps):\n",
    "                test_batch_data, test_batch_labels = test_data.next_batch(batch_size)\n",
    "                test_acc_val = sess.run(\n",
    "                                        [accuracy],\n",
    "                                        feed_dict = {\n",
    "                                            x: test_batch_data, \n",
    "                                            y: test_batch_labels}\n",
    "                                        )\n",
    "                all_test_acc_val.append(test_acc_val)\n",
    "                \n",
    "            test_acc = np.mean(all_test_acc_val)\n",
    "            print('[Test ] Step: %d, acc: %4.5f'% (i+1, test_acc))"
   ]
  },
  {
   "cell_type": "code",
   "execution_count": null,
   "metadata": {
    "collapsed": true
   },
   "outputs": [],
   "source": []
  }
 ],
 "metadata": {
  "kernelspec": {
   "display_name": "Python 3",
   "language": "python",
   "name": "python3"
  },
  "language_info": {
   "codemirror_mode": {
    "name": "ipython",
    "version": 3
   },
   "file_extension": ".py",
   "mimetype": "text/x-python",
   "name": "python",
   "nbconvert_exporter": "python",
   "pygments_lexer": "ipython3",
   "version": "3.6.3"
  }
 },
 "nbformat": 4,
 "nbformat_minor": 2
}

{
 "cells": [
  {
   "cell_type": "code",
   "execution_count": 1,
   "metadata": {},
   "outputs": [
    {
     "name": "stdout",
     "output_type": "stream",
     "text": [
      "['batches.meta', 'data_batch_1', 'data_batch_2', 'data_batch_3', 'data_batch_4', 'data_batch_5', 'readme.html', 'test_batch']\n"
     ]
    }
   ],
   "source": [
    "import tensorflow as tf\n",
    "import os\n",
    "import pickle\n",
    "import numpy as np\n",
    "import CifarData\n",
    "\n",
    "CIFAR_DIR = \"./../cifar-10-batches-py\"\n",
    "print(os.listdir(CIFAR_DIR))"
   ]
  },
  {
   "cell_type": "code",
   "execution_count": 3,
   "metadata": {},
   "outputs": [
    {
     "name": "stdout",
     "output_type": "stream",
     "text": [
      "(50000, 3072)\n",
      "(50000,)\n",
      "(10000, 3072)\n",
      "(10000,)\n"
     ]
    }
   ],
   "source": [
    "\"\"\"\n",
    "testing\n",
    "\"\"\"\n",
    "train_filenames = [os.path.join(CIFAR_DIR, 'data_batch_%d' %i) for i in range(1,6)]\n",
    "test_filenames = [os.path.join(CIFAR_DIR, 'test_batch')]\n",
    "\n",
    "train_data = CifarData.CifarData(train_filenames, True)\n",
    "test_data = CifarData.CifarData(test_filenames, False)"
   ]
  },
  {
   "cell_type": "code",
   "execution_count": 4,
   "metadata": {
    "collapsed": true
   },
   "outputs": [],
   "source": [
    "\"\"\"\n",
    "VGG : add more 3*3 conv layers\n",
    "\"\"\"\n",
    "x = tf.placeholder(tf.float32, [None, 3072])\n",
    "y = tf.placeholder(tf.int64, [None])\n",
    "# [None], eg: [0,5,6,3]\n",
    "x_image = tf.reshape(x, [-1, 3, 32, 32])\n",
    "# 32*32\n",
    "x_image = tf.transpose(x_image, perm=[0, 2, 3, 1])\n",
    "\n",
    "# conv1: 神经元图， feature_map, 输出图像\n",
    "conv1_1 = tf.layers.conv2d(x_image,\n",
    "                           32, # output channel number\n",
    "                           (3,3), # kernel size\n",
    "                           padding = 'same',\n",
    "                           activation = tf.nn.relu,\n",
    "                           name = 'conv1_1')\n",
    "conv1_2 = tf.layers.conv2d(conv1_1,\n",
    "                           32, # output channel number\n",
    "                           (3,3), # kernel size\n",
    "                           padding = 'same',\n",
    "                           activation = tf.nn.relu,\n",
    "                           name = 'conv1_2')\n",
    "\n",
    "# 16 * 16\n",
    "pooling1 = tf.layers.max_pooling2d(conv1_2,\n",
    "                                   (2, 2), # kernel size\n",
    "                                   (2, 2), # stride\n",
    "                                   name = 'pool1')\n",
    "\n",
    "\n",
    "conv2_1 = tf.layers.conv2d(pooling1,\n",
    "                           32, # output channel number\n",
    "                           (3,3), # kernel size\n",
    "                           padding = 'same',\n",
    "                           activation = tf.nn.relu,\n",
    "                           name = 'conv2_1')\n",
    "conv2_2 = tf.layers.conv2d(conv2_1,\n",
    "                           32, # output channel number\n",
    "                           (3,3), # kernel size\n",
    "                           padding = 'same',\n",
    "                           activation = tf.nn.relu,\n",
    "                           name = 'conv2_2')\n",
    "# 8 * 8\n",
    "pooling2 = tf.layers.max_pooling2d(conv2_2,\n",
    "                                   (2, 2), # kernel size\n",
    "                                   (2, 2), # stride\n",
    "                                   name = 'pool2')\n",
    "\n",
    "conv3_1 = tf.layers.conv2d(pooling2,\n",
    "                           32, # output channel number\n",
    "                           (3,3), # kernel size\n",
    "                           padding = 'same',\n",
    "                           activation = tf.nn.relu,\n",
    "                           name = 'conv3_1')\n",
    "conv3_2 = tf.layers.conv2d(conv3_1,\n",
    "                           32, # output channel number\n",
    "                           (3,3), # kernel size\n",
    "                           padding = 'same',\n",
    "                           activation = tf.nn.relu,\n",
    "                           name = 'conv3_2')\n",
    "# 4 * 4 * 32\n",
    "pooling3 = tf.layers.max_pooling2d(conv3_2,\n",
    "                                   (2, 2), # kernel size\n",
    "                                   (2, 2), # stride\n",
    "                                   name = 'pool3')\n",
    "# [None, 4 * 4 * 32]\n",
    "flatten = tf.layers.flatten(pooling3)\n",
    "y_ = tf.layers.dense(flatten, 10)\n",
    "\n",
    "loss = tf.losses.sparse_softmax_cross_entropy(labels=y, logits=y_)\n",
    "# y_ -> sofmax\n",
    "# y -> one_hot\n",
    "# loss = ylogy_\n",
    "\n",
    "# indices\n",
    "predict = tf.argmax(y_, 1)\n",
    "# [1,0,1,1,1,0,0,0]\n",
    "correct_prediction = tf.equal(predict, y)\n",
    "accuracy = tf.reduce_mean(tf.cast(correct_prediction, tf.float64))\n",
    "\n",
    "with tf.name_scope('train_op'):\n",
    "    train_op = tf.train.AdamOptimizer(1e-3).minimize(loss)"
   ]
  },
  {
   "cell_type": "code",
   "execution_count": 5,
   "metadata": {},
   "outputs": [
    {
     "name": "stdout",
     "output_type": "stream",
     "text": [
      "[Train] Step: 100, loss: 1.90660, acc: 0.35000\n",
      "[Train] Step: 200, loss: 1.77103, acc: 0.30000\n",
      "[Train] Step: 300, loss: 1.60937, acc: 0.30000\n",
      "[Train] Step: 400, loss: 1.85868, acc: 0.30000\n",
      "[Train] Step: 500, loss: 1.69399, acc: 0.35000\n",
      "[Train] Step: 600, loss: 1.37386, acc: 0.50000\n",
      "[Train] Step: 700, loss: 1.47651, acc: 0.50000\n",
      "[Train] Step: 800, loss: 1.31060, acc: 0.45000\n",
      "[Train] Step: 900, loss: 2.01673, acc: 0.25000\n",
      "[Train] Step: 1000, loss: 1.72028, acc: 0.35000\n",
      "(10000, 3072)\n",
      "(10000,)\n",
      "[Test ] Step: 1000, acc: 0.52150\n"
     ]
    }
   ],
   "source": [
    "init = tf.global_variables_initializer()\n",
    "batch_size = 20\n",
    "train_steps = 1000\n",
    "test_steps = 100\n",
    "\n",
    "# train 10k: 73.4%\n",
    "with tf.Session() as sess:\n",
    "    sess.run(init)\n",
    "    for i in range(train_steps):\n",
    "        batch_data, batch_labels = train_data.next_batch(batch_size)\n",
    "        loss_val, acc_val, _ = sess.run(\n",
    "                                        [loss, accuracy, train_op],\n",
    "                                        feed_dict={\n",
    "                                            x: batch_data,\n",
    "                                            y: batch_labels}\n",
    "                                        )\n",
    "        if (i+1) % 100 == 0:\n",
    "            print('[Train] Step: %d, loss: %4.5f, acc: %4.5f' \n",
    "                  % (i+1, loss_val, acc_val))\n",
    "        if (i+1) % 1000 == 0:\n",
    "            test_data = CifarData.CifarData(test_filenames, False)\n",
    "            all_test_acc_val = []\n",
    "            for j in range(test_steps):\n",
    "                test_batch_data, test_batch_labels = test_data.next_batch(batch_size)\n",
    "                test_acc_val = sess.run(\n",
    "                                        [accuracy],\n",
    "                                        feed_dict = {\n",
    "                                            x: test_batch_data, \n",
    "                                            y: test_batch_labels\n",
    "                                        })\n",
    "                all_test_acc_val.append(test_acc_val)\n",
    "            test_acc = np.mean(all_test_acc_val)\n",
    "            print('[Test ] Step: %d, acc: %4.5f' % (i+1, test_acc))\n",
    "                \n",
    "                \n",
    "            "
   ]
  },
  {
   "cell_type": "code",
   "execution_count": null,
   "metadata": {
    "collapsed": true
   },
   "outputs": [],
   "source": []
  }
 ],
 "metadata": {
  "kernelspec": {
   "display_name": "Python 3",
   "language": "python",
   "name": "python3"
  },
  "language_info": {
   "codemirror_mode": {
    "name": "ipython",
    "version": 3
   },
   "file_extension": ".py",
   "mimetype": "text/x-python",
   "name": "python",
   "nbconvert_exporter": "python",
   "pygments_lexer": "ipython3",
   "version": "3.6.3"
  }
 },
 "nbformat": 4,
 "nbformat_minor": 2
}

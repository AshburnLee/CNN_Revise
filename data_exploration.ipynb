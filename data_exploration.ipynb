{
 "cells": [
  {
   "cell_type": "code",
   "execution_count": 7,
   "metadata": {},
   "outputs": [
    {
     "name": "stdout",
     "output_type": "stream",
     "text": [
      "['batches.meta', 'data_batch_1', 'data_batch_2', 'data_batch_3', 'data_batch_4', 'data_batch_5', 'readme.html', 'test_batch']\n"
     ]
    }
   ],
   "source": [
    "import pickle\n",
    "import numpy as np\n",
    "import os\n",
    "\n",
    "import matplotlib.pyplot as plt\n",
    "%matplotlib inline\n",
    "\n",
    "CIFAR_DIR = \"./../cifar-10-batches-py\"\n",
    "print(os.listdir(CIFAR_DIR))"
   ]
  },
  {
   "cell_type": "code",
   "execution_count": 8,
   "metadata": {},
   "outputs": [
    {
     "data": {
      "text/plain": [
       "'\\n#The CIFAR-10 dataset consists of 60000 32x32 colour images in 10 classes, \\nwith 6000 images per class. There are 50000 training images and 10000 test images. \\n\\n##data -- a 10000x3072(32*32*3) numpy array of uint8s. \\nEach row of the array stores a 32x32 colour image. \\nThe first 1024 entries contain the red channel values, \\nthe next 1024 the green, and the final 1024 the blue. \\nThe image is stored in row-major order, so that the first 32 entries of the array \\nare the red channel values of the first row of the image.\\n\\n## labels -- a list of 10000 numbers in the range 0-9. \\nThe number at index i indicates the label of the ith image in the array data.\\n'"
      ]
     },
     "execution_count": 8,
     "metadata": {},
     "output_type": "execute_result"
    }
   ],
   "source": [
    "\"\"\"\n",
    "#The CIFAR-10 dataset consists of 60000 32x32 colour images in 10 classes, \n",
    "with 6000 images per class. There are 50000 training images and 10000 test images. \n",
    "\n",
    "## data -- a 10000x3072(32*32*3) numpy array of uint8s. \n",
    "Each row of the array stores a 32x32 colour image. \n",
    "The first 1024 entries contain the red channel values, \n",
    "the next 1024 the green, and the final 1024 the blue. \n",
    "The image is stored in row-major order, so that the first 32 entries of the array \n",
    "are the red channel values of the first row of the image.\n",
    "\n",
    "## labels -- a list of 10000 numbers in the range 0-9. \n",
    "The number at index i indicates the label of the ith image in the array data.\n",
    "\"\"\""
   ]
  },
  {
   "cell_type": "code",
   "execution_count": 9,
   "metadata": {},
   "outputs": [
    {
     "name": "stdout",
     "output_type": "stream",
     "text": [
      "<class 'dict'>\n",
      "dict_keys([b'batch_label', b'labels', b'data', b'filenames'])\n",
      "**************************\n",
      "<class 'numpy.ndarray'>\n",
      "<class 'list'>\n",
      "<class 'bytes'>\n",
      "<class 'list'>\n",
      "**************************\n",
      "(10000, 3072)\n",
      "[[ 59  43  50 ..., 140  84  72]\n",
      " [154 126 105 ..., 139 142 144]]\n",
      "[6, 9]\n",
      "b'training batch 1 of 5'\n",
      "[b'leptodactylus_pentadactylus_s_000004.png', b'camion_s_000148.png']\n"
     ]
    }
   ],
   "source": [
    "with open(os.path.join(CIFAR_DIR, \"data_batch_1\"), 'rb') as f:\n",
    "    data = pickle.load(f, encoding='bytes')\n",
    "    print(type(data))\n",
    "    print(data.keys())\n",
    "    print(\"**************************\")\n",
    "    print(type(data[b'data']))\n",
    "    print(type(data[b'labels']))\n",
    "    print(type(data[b'batch_label']))\n",
    "    print(type(data[b'filenames']))\n",
    "    print(\"**************************\")\n",
    "    print(data[b'data'].shape)\n",
    "    print(data[b'data'][0:2])\n",
    "    print(data[b'labels'][0:2])\n",
    "    print(data[b'batch_label'])\n",
    "    print(data[b'filenames'][0:2])\n",
    "\n",
    "# each peice of sample is a 3072 array \n",
    "# 32 * 32 = 1024 * 3(channels) = 3072\n",
    "# RR-GG-BB = 3072\n",
    "    "
   ]
  },
  {
   "cell_type": "code",
   "execution_count": 16,
   "metadata": {},
   "outputs": [
    {
     "name": "stdout",
     "output_type": "stream",
     "text": [
      "8\n",
      "b'abandoned_ship_s_000574.png'\n"
     ]
    },
    {
     "data": {
      "image/png": "[encoded data removed]",
      "text/plain": [
       "<matplotlib.figure.Figure at 0x7f02d5709cf8>"
      ]
     },
     "metadata": {},
     "output_type": "display_data"
    }
   ],
   "source": [
    "image_arr = data[b'data'][100]\n",
    "# reshape 3072 to (32,32,3)\n",
    "image_arr = image_arr.reshape((3, 32, 32))\n",
    "# reshape to (32,32,3)\n",
    "image_arr = image_arr.transpose((1, 2, 0))\n",
    "\n",
    "plt.imshow(image_arr)\n",
    "print(data[b'labels'][100])\n",
    "print(data[b'filenames'][100])"
   ]
  },
  {
   "cell_type": "code",
   "execution_count": null,
   "metadata": {
    "collapsed": true
   },
   "outputs": [],
   "source": []
  }
 ],
 "metadata": {
  "kernelspec": {
   "display_name": "Python 3",
   "language": "python",
   "name": "python3"
  },
  "language_info": {
   "codemirror_mode": {
    "name": "ipython",
    "version": 3
   },
   "file_extension": ".py",
   "mimetype": "text/x-python",
   "name": "python",
   "nbconvert_exporter": "python",
   "pygments_lexer": "ipython3",
   "version": "3.6.3"
  }
 },
 "nbformat": 4,
 "nbformat_minor": 2
}
